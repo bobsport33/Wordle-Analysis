{
  "nbformat": 4,
  "nbformat_minor": 0,
  "metadata": {
    "colab": {
      "name": "Wordle_Analysis.ipynb",
      "provenance": [],
      "collapsed_sections": [],
      "authorship_tag": "ABX9TyOoyhMflBXA4cxnYD13C8ZI",
      "include_colab_link": true
    },
    "kernelspec": {
      "name": "python3",
      "display_name": "Python 3"
    },
    "language_info": {
      "name": "python"
    }
  },
  "cells": [
    {
      "cell_type": "markdown",
      "metadata": {
        "id": "view-in-github",
        "colab_type": "text"
      },
      "source": [
        "<a href=\"https://colab.research.google.com/github/bobsport33/Wordle-Analysis/blob/main/Wordle_Analysis.ipynb\" target=\"_parent\"><img src=\"https://colab.research.google.com/assets/colab-badge.svg\" alt=\"Open In Colab\"/></a>"
      ]
    },
    {
      "cell_type": "code",
      "execution_count": 1,
      "metadata": {
        "id": "1fM8VT2TXuT3"
      },
      "outputs": [],
      "source": [
        "import string\n",
        "from collections import Counter\n",
        "import random\n",
        "from bs4 import BeautifulSoup\n",
        "import requests\n"
      ]
    },
    {
      "cell_type": "code",
      "source": [
        "# 1. produce a dictionary\n",
        "\n",
        "with open('dictionary.txt') as file:\n",
        "    dictionary = [line.rstrip() for line in file]\n"
      ],
      "metadata": {
        "colab": {
          "base_uri": "https://localhost:8080/"
        },
        "id": "ULfH8kmxYgz3",
        "outputId": "9a6ab81f-daa5-4442-f9bc-a65a87cc9eca"
      },
      "execution_count": 5,
      "outputs": [
        {
          "output_type": "stream",
          "name": "stdout",
          "text": [
            "['a', 'aa', 'aaa', 'aah', 'aahed']\n"
          ]
        }
      ]
    },
    {
      "cell_type": "code",
      "source": [
        "# 2. create a dictionary with only 5 letter words\n",
        "\n",
        "five_letter_words = []\n",
        "for word in dictionary:\n",
        "    if len(word) == 5:\n",
        "        five_letter_words.append(word)\n"
      ],
      "metadata": {
        "colab": {
          "base_uri": "https://localhost:8080/"
        },
        "id": "IoPpjIm9YiSR",
        "outputId": "98c5903f-5b0c-4837-a05b-e2564b8265b5"
      },
      "execution_count": 6,
      "outputs": [
        {
          "output_type": "stream",
          "name": "stdout",
          "text": [
            "['aahed', 'aalii', 'aargh', 'aaron', 'abaca']\n"
          ]
        }
      ]
    },
    {
      "cell_type": "code",
      "source": [
        "# 3. find the percentages of the most common letters in 5 letter words\n",
        "\n",
        "alphabet_string = string.ascii_lowercase\n",
        "alphabet = list(alphabet_string)\n",
        "\n",
        "letters = []\n",
        "for word in five_letter_words:\n",
        "    letters += Counter(word)\n",
        "\n",
        "letter_counter = Counter(letters)\n",
        "\n",
        "print(letter_counter)"
      ],
      "metadata": {
        "colab": {
          "base_uri": "https://localhost:8080/"
        },
        "id": "HJPm34t4Y3V1",
        "outputId": "dcf8dd7a-58ab-49e9-d921-cec07d9a5dea"
      },
      "execution_count": 8,
      "outputs": [
        {
          "output_type": "stream",
          "name": "stdout",
          "text": [
            "Counter({'a': 7247, 'e': 6728, 's': 5871, 'r': 4864, 'i': 4767, 'o': 4613, 'l': 3923, 't': 3866, 'n': 3773, 'u': 3241, 'd': 2639, 'c': 2588, 'y': 2476, 'm': 2361, 'h': 2223, 'p': 2148, 'b': 1936, 'g': 1867, 'k': 1663, 'w': 1160, 'f': 1115, 'v': 853, 'z': 435, 'j': 372, 'x': 357, 'q': 139})\n"
          ]
        }
      ]
    },
    {
      "cell_type": "code",
      "source": [
        "# 4. Parse the dictionary to find the 5 letter words that use the highest percentage letters\n",
        "\n",
        "total_letters = len(five_letter_words) * 5\n",
        "\n",
        "letters_by_percentage = {}\n",
        "for letter in alphabet:\n",
        "    percentage = (letter_counter[letter] / total_letters) * 100\n",
        "    letters_by_percentage[letter] = percentage\n",
        "\n",
        "print(letters_by_percentage)"
      ],
      "metadata": {
        "colab": {
          "base_uri": "https://localhost:8080/"
        },
        "id": "Ea7BfZo7ZCcr",
        "outputId": "f858b3e2-81de-4337-b451-182a5f319516"
      },
      "execution_count": 9,
      "outputs": [
        {
          "output_type": "stream",
          "name": "stdout",
          "text": [
            "{'a': 9.10541525317251, 'b': 2.432466390250031, 'c': 3.2516647820077895, 'd': 3.3157431838170623, 'e': 8.453323281819323, 'f': 1.40092976504586, 'g': 2.345772081919839, 'h': 2.793064455333585, 'i': 5.989445910290237, 'j': 0.4673954014323407, 'k': 2.089458474682749, 'l': 4.929011182309336, 'm': 2.9664530719939695, 'n': 4.740545294635004, 'o': 5.7959542656112575, 'p': 2.6988315114964188, 'q': 0.17464505591154666, 'r': 6.111320517652972, 's': 7.376554843573313, 't': 4.85739414499309, 'u': 4.072119613016711, 'v': 1.071742681241362, 'w': 1.4574695313481594, 'x': 0.4485488126649077, 'y': 3.1109435858776227, 'z': 0.5465510742555597}\n"
          ]
        }
      ]
    },
    {
      "cell_type": "code",
      "source": [
        "# 5. create a list of the best possible 5 letter guesses\n",
        "\n",
        "best_words = []\n",
        "\n",
        "for word in five_letter_words:\n",
        "    total = 0\n",
        "    letters = []\n",
        "    for letter in word:\n",
        "        if letter in letters:\n",
        "            total += 0\n",
        "        else:\n",
        "            number = float(letters_by_percentage[letter])\n",
        "            total += number\n",
        "            letters.append(letter)\n",
        "    best_words.append((word, total))\n",
        "\n",
        "best_words.sort(key=lambda a: a[1])\n",
        "top_guesses = best_words[-70: ]\n",
        "\n",
        "print(top_guesses)"
      ],
      "metadata": {
        "colab": {
          "base_uri": "https://localhost:8080/"
        },
        "id": "ODb57Q7wZT9f",
        "outputId": "4594d2da-3903-483a-a63a-db0230792b73"
      },
      "execution_count": 11,
      "outputs": [
        {
          "output_type": "stream",
          "name": "stdout",
          "text": [
            "[('salet', 34.72169870586757), ('slate', 34.72169870586757), ('stale', 34.72169870586757), ('stela', 34.72169870586757), ('taels', 34.72169870586757), ('tales', 34.72169870586757), ('teals', 34.72169870586757), ('tesla', 34.72169870586757), ('astel', 34.721698705867574), ('setal', 34.721698705867574), ('steal', 34.721698705867574), ('aures', 35.11873350923483), ('serau', 35.11873350923483), ('urase', 35.11873350923483), ('ureas', 35.11873350923483), ('ursae', 35.11873350923483), ('aeons', 35.471792938811404), ('aotes', 35.58864178916949), ('stoae', 35.58864178916949), ('aloes', 35.66025882648574), ('alose', 35.66025882648574), ('osela', 35.66025882648574), ('solea', 35.66025882648574), ('anise', 35.66528458349039), ('insea', 35.66528458349039), ('siena', 35.66528458349039), ('sinae', 35.66528458349039), ('saite', 35.78213343384847), ('taise', 35.78213343384847), ('earns', 35.78715919085312), ('nares', 35.78715919085312), ('nears', 35.78715919085312), ('anser', 35.787159190853124), ('rasen', 35.787159190853124), ('saner', 35.787159190853124), ('snare', 35.787159190853124), ('aisle', 35.853750471164716), ('elias', 35.853750471164716), ('arest', 35.904008041211206), ('aster', 35.904008041211206), ('astre', 35.904008041211206), ('rates', 35.904008041211206), ('reast', 35.904008041211206), ('resat', 35.904008041211206), ('stare', 35.904008041211206), ('strae', 35.904008041211206), ('treas', 35.904008041211206), ('serta', 35.90400804121121), ('tares', 35.90400804121121), ('tarse', 35.90400804121121), ('tears', 35.90400804121121), ('teras', 35.90400804121121), ('earls', 35.97562507852745), ('laser', 35.97562507852745), ('reals', 35.97562507852745), ('slare', 35.97562507852745), ('arles', 35.97562507852746), ('arsle', 35.97562507852746), ('lares', 35.97562507852746), ('lears', 35.97562507852746), ('rales', 35.97562507852746), ('seral', 35.97562507852746), ('arose', 36.84256816182938), ('oreas', 36.84256816182938), ('seora', 36.84256816182938), ('aesir', 37.036059806508355), ('aries', 37.036059806508355), ('arise', 37.036059806508355), ('raise', 37.036059806508355), ('serai', 37.036059806508355)]\n"
          ]
        }
      ]
    },
    {
      "cell_type": "code",
      "source": [
        "# 6. Find a list of past wordle words and find letter usage\n",
        "\n",
        "response = requests.get(\"https://tryhardguides.com/wordle-answers/\")\n",
        "website = response.text\n",
        "\n",
        "soup = BeautifulSoup(website, \"html.parser\")\n",
        "\n",
        "a_tags = soup.select(selector=\"ul li strong\")\n",
        "\n",
        "recent_wordle = []\n",
        "for tag in a_tags:\n",
        "    text = tag.getText()\n",
        "    recent_wordle.append(text.lower())\n",
        "\n",
        "recent_total_letters = len(recent_wordle) * 5\n",
        "\n",
        "recent_wordle_letters = []\n",
        "for word in recent_wordle:\n",
        "    recent_wordle_letters += Counter(word)\n",
        "\n",
        "recent_letter_counter = Counter(recent_wordle_letters)\n",
        "\n",
        "recent_letter_percentage = {}\n",
        "for letter in alphabet:\n",
        "    percentage = (recent_letter_counter[letter] / recent_total_letters) * 100\n",
        "    recent_letter_percentage[letter] = percentage\n",
        "\n",
        "print(recent_letter_percentage)"
      ],
      "metadata": {
        "colab": {
          "base_uri": "https://localhost:8080/"
        },
        "id": "nDc0sX1cZfPi",
        "outputId": "a53c96c5-6a29-4c20-a03b-47b84702811c"
      },
      "execution_count": 12,
      "outputs": [
        {
          "output_type": "stream",
          "name": "stdout",
          "text": [
            "{'a': 8.148148148148149, 'b': 1.6666666666666667, 'c': 4.074074074074074, 'd': 2.2222222222222223, 'e': 7.777777777777778, 'f': 1.4814814814814816, 'g': 1.8518518518518516, 'h': 4.444444444444445, 'i': 4.2592592592592595, 'j': 0.0, 'k': 2.5925925925925926, 'l': 5.185185185185185, 'm': 2.5925925925925926, 'n': 4.444444444444445, 'o': 7.962962962962964, 'p': 3.5185185185185186, 'q': 0.3703703703703704, 'r': 8.333333333333332, 's': 6.111111111111111, 't': 7.037037037037037, 'u': 4.2592592592592595, 'v': 0.9259259259259258, 'w': 2.4074074074074074, 'x': 0.3703703703703704, 'y': 2.7777777777777777, 'z': 0.0}\n"
          ]
        }
      ]
    },
    {
      "cell_type": "code",
      "source": [
        "# 7. Using the recent letter percentage, find the best words in the dictionary\n",
        "\n",
        "best_wordle_words = []\n",
        "\n",
        "for word in five_letter_words:\n",
        "    total = 0\n",
        "    letters = []\n",
        "    for letter in word:\n",
        "        if letter in letters:\n",
        "            total += 0\n",
        "        else:\n",
        "            number = float(recent_letter_percentage[letter])\n",
        "            total += number\n",
        "            letters.append(letter)\n",
        "    best_wordle_words.append((word, total))\n",
        "\n",
        "best_wordle_words.sort(key=lambda a: a[1])\n",
        "top_wordle_guesses = best_wordle_words[-70: ]\n",
        "\n",
        "print(top_guesses)\n",
        "print(top_wordle_guesses)"
      ],
      "metadata": {
        "colab": {
          "base_uri": "https://localhost:8080/"
        },
        "id": "gJmHyS8tZjf1",
        "outputId": "56a226fd-2733-4228-c90c-f32473e50ebf"
      },
      "execution_count": 13,
      "outputs": [
        {
          "output_type": "stream",
          "name": "stdout",
          "text": [
            "[('salet', 34.72169870586757), ('slate', 34.72169870586757), ('stale', 34.72169870586757), ('stela', 34.72169870586757), ('taels', 34.72169870586757), ('tales', 34.72169870586757), ('teals', 34.72169870586757), ('tesla', 34.72169870586757), ('astel', 34.721698705867574), ('setal', 34.721698705867574), ('steal', 34.721698705867574), ('aures', 35.11873350923483), ('serau', 35.11873350923483), ('urase', 35.11873350923483), ('ureas', 35.11873350923483), ('ursae', 35.11873350923483), ('aeons', 35.471792938811404), ('aotes', 35.58864178916949), ('stoae', 35.58864178916949), ('aloes', 35.66025882648574), ('alose', 35.66025882648574), ('osela', 35.66025882648574), ('solea', 35.66025882648574), ('anise', 35.66528458349039), ('insea', 35.66528458349039), ('siena', 35.66528458349039), ('sinae', 35.66528458349039), ('saite', 35.78213343384847), ('taise', 35.78213343384847), ('earns', 35.78715919085312), ('nares', 35.78715919085312), ('nears', 35.78715919085312), ('anser', 35.787159190853124), ('rasen', 35.787159190853124), ('saner', 35.787159190853124), ('snare', 35.787159190853124), ('aisle', 35.853750471164716), ('elias', 35.853750471164716), ('arest', 35.904008041211206), ('aster', 35.904008041211206), ('astre', 35.904008041211206), ('rates', 35.904008041211206), ('reast', 35.904008041211206), ('resat', 35.904008041211206), ('stare', 35.904008041211206), ('strae', 35.904008041211206), ('treas', 35.904008041211206), ('serta', 35.90400804121121), ('tares', 35.90400804121121), ('tarse', 35.90400804121121), ('tears', 35.90400804121121), ('teras', 35.90400804121121), ('earls', 35.97562507852745), ('laser', 35.97562507852745), ('reals', 35.97562507852745), ('slare', 35.97562507852745), ('arles', 35.97562507852746), ('arsle', 35.97562507852746), ('lares', 35.97562507852746), ('lears', 35.97562507852746), ('rales', 35.97562507852746), ('seral', 35.97562507852746), ('arose', 36.84256816182938), ('oreas', 36.84256816182938), ('seora', 36.84256816182938), ('aesir', 37.036059806508355), ('aries', 37.036059806508355), ('arise', 37.036059806508355), ('raise', 37.036059806508355), ('serai', 37.036059806508355)]\n",
            "[('retan', 35.74074074074074), ('rosal', 35.74074074074074), ('solar', 35.74074074074074), ('soral', 35.74074074074074), ('atour', 35.74074074074075), ('autor', 35.74074074074075), ('orals', 35.74074074074075), ('torah', 35.925925925925924), ('toran', 35.925925925925924), ('trona', 35.925925925925924), ('orant', 35.92592592592593), ('rotan', 35.92592592592593), ('atelo', 36.111111111111114), ('atole', 36.111111111111114), ('lerot', 36.2962962962963), ('ocrea', 36.2962962962963), ('orlet', 36.2962962962963), ('relot', 36.2962962962963), ('alert', 36.48148148148148), ('alter', 36.48148148148148), ('artel', 36.48148148148148), ('later', 36.48148148148148), ('ratel', 36.48148148148148), ('retal', 36.48148148148148), ('taler', 36.48148148148148), ('telar', 36.48148148148148), ('aeron', 36.666666666666664), ('horae', 36.666666666666664), ('latro', 36.666666666666664), ('ohare', 36.666666666666664), ('toral', 36.666666666666664), ('rotal', 36.66666666666667), ('aotes', 37.03703703703704), ('stoae', 37.03703703703704), ('roset', 37.22222222222222), ('rotse', 37.22222222222222), ('soter', 37.22222222222222), ('stero', 37.22222222222222), ('store', 37.22222222222222), ('tores', 37.22222222222222), ('torse', 37.22222222222222), ('rotes', 37.22222222222223), ('arest', 37.407407407407405), ('aster', 37.407407407407405), ('astre', 37.407407407407405), ('leora', 37.407407407407405), ('rates', 37.407407407407405), ('reast', 37.407407407407405), ('resat', 37.407407407407405), ('serta', 37.407407407407405), ('stare', 37.407407407407405), ('strae', 37.407407407407405), ('tares', 37.407407407407405), ('tarse', 37.407407407407405), ('tears', 37.407407407407405), ('teras', 37.407407407407405), ('treas', 37.407407407407405), ('orale', 37.40740740740741), ('astor', 37.592592592592595), ('ratos', 37.592592592592595), ('roast', 37.592592592592595), ('rotas', 37.592592592592595), ('taros', 37.592592592592595), ('toras', 37.592592592592595), ('arose', 38.33333333333333), ('seora', 38.333333333333336), ('oreas', 38.33333333333334), ('erato', 39.25925925925926), ('orate', 39.25925925925926), ('oater', 39.25925925925927)]\n"
          ]
        }
      ]
    }
  ]
}